{
 "cells": [
  {
   "cell_type": "markdown",
   "id": "e7017650-3771-470f-a19b-492d405d97fe",
   "metadata": {},
   "source": [
    "# Data Handling\n",
    "You'll find here:\n",
    "\n",
    "-Data loading\n",
    "\n",
    "-Data cleaning\n",
    "\n",
    "-SQL Requetes"
   ]
  },
  {
   "cell_type": "code",
   "execution_count": 1,
   "id": "859d7f4d-9001-48b3-bc81-685850181c6d",
   "metadata": {},
   "outputs": [],
   "source": [
    "# BASIC IMPORTS\n",
    "import numpy as np\n",
    "import pandas as pd\n",
    "import matplotlib.pyplot as plt\n",
    "import seaborn as sns\n",
    "from nbresult import ChallengeResult"
   ]
  },
  {
   "cell_type": "code",
   "execution_count": 5,
   "id": "065eb48a-0324-4462-8ffd-a88bc3cd673d",
   "metadata": {},
   "outputs": [
    {
     "name": "stdout",
     "output_type": "stream",
     "text": [
      "  % Total    % Received % Xferd  Average Speed   Time    Time     Time  Current\n",
      "                                 Dload  Upload   Total   Spent    Left  Speed\n",
      "100 1978k  100 1978k    0     0  1800k      0  0:00:01  0:00:01 --:--:-- 1800k\n"
     ]
    }
   ],
   "source": [
    "# DOWNLOAD FROM INTERNET\n",
    "\n",
    "!curl https://wagon-public-datasets.s3.amazonaws.com/certification_france_2021_q2/tv_movies_popularity.csv \\\n",
    "    --output tv_movies_popularity.csv\n",
    "!mv tv_movies_popularity.csv raw_data"
   ]
  },
  {
   "cell_type": "code",
   "execution_count": null,
   "id": "e1b60a15-d05d-443a-9abe-d2fcd51f3b5c",
   "metadata": {},
   "outputs": [],
   "source": []
  }
 ],
 "metadata": {
  "kernelspec": {
   "display_name": "Python 3",
   "language": "python",
   "name": "python3"
  },
  "language_info": {
   "codemirror_mode": {
    "name": "ipython",
    "version": 3
   },
   "file_extension": ".py",
   "mimetype": "text/x-python",
   "name": "python",
   "nbconvert_exporter": "python",
   "pygments_lexer": "ipython3",
   "version": "3.8.6"
  }
 },
 "nbformat": 4,
 "nbformat_minor": 5
}
